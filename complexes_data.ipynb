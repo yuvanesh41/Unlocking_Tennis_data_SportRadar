{
 "cells": [
  {
   "cell_type": "markdown",
   "metadata": {},
   "source": [
    "{ *** 2. COLLECT THE COMPLEXES DATA FROM THE API ENDPOINTS *** }"
   ]
  },
  {
   "cell_type": "code",
   "execution_count": 10,
   "metadata": {},
   "outputs": [],
   "source": [
    "import pandas as pd\n",
    "import psycopg2\n",
    "\n",
    "#### postgresql connection credentials\n",
    "\n",
    "# connection = psycopg2.connect(\n",
    "#    host=\"localhost\",\n",
    "#    user=\"postgres\",\n",
    "#    password=\"vijay45\",\n",
    "#    database=\"postgres\"\n",
    "\n",
    "# )\n",
    "\n",
    "# cursor=connection.cursor()"
   ]
  },
  {
   "cell_type": "code",
   "execution_count": 11,
   "metadata": {},
   "outputs": [],
   "source": [
    "import requests\n",
    "\n",
    "url = \"https://api.sportradar.com/tennis/trial/v3/en/complexes.json?api_key=3cx83hgyhyf1YOaeIdPIxYu10bw5H0JSANgpnVSI\"\n",
    "\n",
    "headers = {\"accept\": \"application/json\"}\n",
    "\n",
    "response = requests.get(url, headers=headers).json()\n",
    "\n",
    "\n",
    "complexes_data = response['complexes']\n"
   ]
  },
  {
   "cell_type": "code",
   "execution_count": 12,
   "metadata": {},
   "outputs": [
    {
     "name": "stdout",
     "output_type": "stream",
     "text": [
      "(3220, 7)\n",
      "152\n"
     ]
    }
   ],
   "source": [
    "# FETCH DATA FROM API AND CONVERTED INTO DATAFRAME FOR COMPLEXES_DF\n",
    "\n",
    "complex_id = []\n",
    "complex_name = []\n",
    "for value in complexes_data:\n",
    "    complex_id.append(value['id'])\n",
    "    complex_name.append(value['name'])\n",
    "\n",
    "data = {'complex_id': complex_id, 'complex_name': complex_name}\n",
    "complexes_df = pd.DataFrame(data)\n",
    "\n",
    "complexes_df.drop_duplicates()\n",
    "\n",
    "#  FETCH DATA FROM API AND CONVERTED INTO DATAFRAME FOR VENUES_DF\n",
    "\n",
    "\n",
    "venue_id = []\n",
    "venue_name = []\n",
    "city_name = []\n",
    "country_name = []\n",
    "country_code = []\n",
    "timezone = []\n",
    "complex_id = []\n",
    "\n",
    "count = []\n",
    "\n",
    "for value in complexes_data:\n",
    "    if 'venues' in value:\n",
    "        for venue in value['venues']:\n",
    "            venue_id.append(venue['id'])\n",
    "            venue_name.append(venue['name'])\n",
    "            city_name.append(venue['city_name'])\n",
    "            country_name.append(venue['country_name'])\n",
    "            country_code.append(venue['country_code'])\n",
    "            timezone.append(venue['timezone'])\n",
    "            complex_id.append(value['id'])\n",
    "    else:\n",
    "        count.append(1)\n",
    "\n",
    "\n",
    "data = {'venue_id': venue_id, 'venue_name': venue_name, 'city_name':city_name, 'country_name': country_name, 'country_code': country_code, 'timezone': timezone, 'complex_id': complex_id}\n",
    "venues_df = pd.DataFrame(data)\n",
    "print(venues_df.shape)\n",
    "print(sum(count))"
   ]
  },
  {
   "cell_type": "code",
   "execution_count": 14,
   "metadata": {},
   "outputs": [
    {
     "name": "stdout",
     "output_type": "stream",
     "text": [
      "Data has been inserted into POSTGRESQL!\n"
     ]
    }
   ],
   "source": [
    "\n",
    "# Establish the database connection\n",
    "\n",
    "connection = psycopg2.connect(\n",
    "    host=\"localhost\",\n",
    "    user=\"postgres\",\n",
    "    password=\"vijay45\",\n",
    "    database=\"postgres\"\n",
    ")\n",
    "cursor = connection.cursor()\n",
    "\n",
    "# CREATING SQL TABLE FOR [COMPLEXES]\n",
    "\n",
    "cursor.execute(\"\"\"\n",
    "    CREATE TABLE IF NOT EXISTS Complex (\n",
    "        complex_id VARCHAR(50) PRIMARY KEY,\n",
    "        complex_name VARCHAR(100) NOT NULL\n",
    "    );\n",
    "\"\"\")\n",
    "\n",
    "# CREATING SQL TABLE FOR [VENUES]\n",
    "\n",
    "cursor.execute(\"\"\"\n",
    "    CREATE TABLE IF NOT EXISTS Venue (\n",
    "        venue_id VARCHAR(50) PRIMARY KEY,\n",
    "        venue_name VARCHAR(100) NOT NULL,\n",
    "        city_name VARCHAR(100) NOT NULL,\n",
    "        country_name VARCHAR(100) NOT NULL,\n",
    "        country_code CHAR(3) NOT NULL,\n",
    "        timezone VARCHAR(100) NOT NULL,\n",
    "        complex_id VARCHAR(50),\n",
    "        FOREIGN KEY (complex_id) REFERENCES Complexes(complex_id)\n",
    "    );\n",
    "\"\"\")\n",
    "\n",
    "\n",
    "# Insert data into complexes table\n",
    "\n",
    "for index, row in complexes_df.iterrows():\n",
    "    cursor.execute('''\n",
    "    INSERT INTO complex (complex_id, complex_name)\n",
    "    VALUES (%s, %s);\n",
    "    ''', (row['complex_id'], row['complex_name']))\n",
    "\n",
    "# Insert data into venues table\n",
    "\n",
    "for index, row in venues_df.iterrows():\n",
    "    cursor.execute('''\n",
    "    INSERT INTO venue (venue_id, venue_name, city_name, country_name, country_code, timezone, complex_id)\n",
    "    VALUES (%s, %s, %s, %s, %s, %s, %s);\n",
    "    ''', (row['venue_id'], row['venue_name'], row['city_name'], row['country_name'], row['country_code'], row['timezone'], row['complex_id']))\n",
    "\n",
    "connection.commit()\n",
    "connection.close()\n",
    "\n",
    "print(\"Data has been inserted into POSTGRESQL!\")"
   ]
  }
 ],
 "metadata": {
  "kernelspec": {
   "display_name": ".venv",
   "language": "python",
   "name": "python3"
  },
  "language_info": {
   "codemirror_mode": {
    "name": "ipython",
    "version": 3
   },
   "file_extension": ".py",
   "mimetype": "text/x-python",
   "name": "python",
   "nbconvert_exporter": "python",
   "pygments_lexer": "ipython3",
   "version": "3.13.1"
  }
 },
 "nbformat": 4,
 "nbformat_minor": 2
}
